{
 "cells": [
  {
   "cell_type": "markdown",
   "metadata": {},
   "source": [
    "### Welcome to Deep Learning with PyTorch Series of project \n",
    "\n",
    "- Deep Learning with PyTorch : Build a Neural Network \n",
    "- **Deep Learning with PyTorch : Convolutional Neural Network**\n",
    "- Deep Learning with PyTorch : Neural Style Transfer\n",
    "- Many more coming"
   ]
  },
  {
   "cell_type": "markdown",
   "metadata": {},
   "source": [
    "# Deep Learning with PyTorch : Build a Convolutional Neural Network"
   ]
  },
  {
   "cell_type": "code",
   "execution_count": 2,
   "metadata": {},
   "outputs": [],
   "source": [
    "import numpy as np \n",
    "import matplotlib.pyplot as plt\n",
    "import torch "
   ]
  },
  {
   "cell_type": "markdown",
   "metadata": {},
   "source": [
    "## Task 1 : Load CIFAR-10 Dataset"
   ]
  },
  {
   "cell_type": "markdown",
   "metadata": {},
   "source": [
    "![](cifar-10.png)"
   ]
  },
  {
   "cell_type": "markdown",
   "metadata": {},
   "source": [
    "PyTorch transforms : https://pytorch.org/docs/stable/torchvision/transforms.html\n",
    "- **For CIFAR-10 Dataset Channel mean is 0.4914, 0.4822, 0.4465**\n",
    "- **Channel wise Standard Deviation is 0.2470, 0.2435, 0.2616**"
   ]
  },
  {
   "cell_type": "code",
   "execution_count": 3,
   "metadata": {},
   "outputs": [],
   "source": [
    "from torchvision import transforms as T, datasets"
   ]
  },
  {
   "cell_type": "markdown",
   "metadata": {},
   "source": [
    "* ToTensor() : converts numpy or PIL images to tensor. It also converts your image dimension to C x H x W because in pytorch for network input channel should be first \n",
    "\n",
    "* Normalize() : Takes channel wise mean-list and channel wise standard deviation-list"
   ]
  },
  {
   "cell_type": "code",
   "execution_count": 4,
   "metadata": {},
   "outputs": [],
   "source": [
    "data_transforms = T.Compose([\n",
    "    T.ToTensor(), # H x W x C-> C x H x W\n",
    "    T.Normalize(mean=[0.4914, 0.4822, 0.4465], std=[0.2470, 0.2435, 0.2616])\n",
    "])"
   ]
  },
  {
   "cell_type": "markdown",
   "metadata": {},
   "source": [
    "#### Parameters in datasets submodule\n",
    "\n",
    "* data_path\n",
    "* train : True (to load train set) or False (to load test set)\n",
    "* download : True (to download) or False\n",
    "* transform : to apply transformation on data\n"
   ]
  },
  {
   "cell_type": "markdown",
   "metadata": {},
   "source": [
    "CIFAR-10 consists of 60,000 tiny 32 x 32 x 3(RGB) images, labeled with an interger corresponding to 1 of 10 : classes = ('plane', 'car', 'bird', 'cat','deer', 'dog', 'frog', 'horse', 'ship', 'truck')"
   ]
  },
  {
   "cell_type": "code",
   "execution_count": 5,
   "metadata": {},
   "outputs": [],
   "source": [
    "train_ds = datasets.CIFAR10('cifar10/', train=True, download = False, transform = data_transforms)\n",
    "test_ds = datasets.CIFAR10('cifar10/', train=False, download = False, transform = data_transforms)"
   ]
  },
  {
   "cell_type": "code",
   "execution_count": 6,
   "metadata": {},
   "outputs": [
    {
     "name": "stdout",
     "output_type": "stream",
     "text": [
      "Size of train set 50000\n",
      "Size of test set 10000\n"
     ]
    }
   ],
   "source": [
    "print('Size of train set {}'.format(len(train_ds)))\n",
    "print('Size of test set {}'.format(len(test_ds)))"
   ]
  },
  {
   "cell_type": "markdown",
   "metadata": {},
   "source": [
    "## Task 2 : Plot examples from dataset"
   ]
  },
  {
   "cell_type": "code",
   "execution_count": 12,
   "metadata": {},
   "outputs": [],
   "source": [
    "classes = ['plane', 'car', 'bird', 'cat','deer', 'dog', 'frog', 'horse', 'ship', 'truck']"
   ]
  },
  {
   "cell_type": "code",
   "execution_count": 17,
   "metadata": {},
   "outputs": [
    {
     "data": {
      "image/png": "[encoded data removed]",
      "text/plain": [
       "<Figure size 432x288 with 1 Axes>"
      ]
     },
     "metadata": {
      "needs_background": "light"
     },
     "output_type": "display_data"
    }
   ],
   "source": [
    "index = 199\n",
    "image, label = train_ds[index]\n",
    "image = image.permute(1,2,0) # C(0) x H(1) x W(2)\n",
    "\n",
    "#denormalizing the image\n",
    "image = image * torch.Tensor([0.2470, 0.2435, 0.2616]) + torch.Tensor([0.4914, 0.4822, 0.4465])\n",
    "plt.imshow(image)\n",
    "plt.title(classes[label]);"
   ]
  },
  {
   "cell_type": "markdown",
   "metadata": {},
   "source": [
    "## Task 3 : Load dataset into batches"
   ]
  },
  {
   "cell_type": "code",
   "execution_count": 18,
   "metadata": {},
   "outputs": [],
   "source": [
    "from torch.utils.data import DataLoader, random_split"
   ]
  },
  {
   "cell_type": "code",
   "execution_count": 19,
   "metadata": {},
   "outputs": [],
   "source": [
    "train_dataset, valid_dataset = random_split(train_ds, (45000, 5000))"
   ]
  },
  {
   "cell_type": "code",
   "execution_count": 21,
   "metadata": {},
   "outputs": [],
   "source": [
    "trainLoader = DataLoader(train_dataset, batch_size = 64, shuffle = True)\n",
    "validLoader = DataLoader(valid_dataset, batch_size = 64, shuffle = True)\n",
    "testLoader = DataLoader(test_ds, batch_size = 64, shuffle = True)"
   ]
  },
  {
   "cell_type": "code",
   "execution_count": 23,
   "metadata": {},
   "outputs": [
    {
     "name": "stdout",
     "output_type": "stream",
     "text": [
      "total batches created in Train loader: 704\n",
      "total batches created in Valid loader: 79\n",
      "total batches created in Test loader: 157\n",
      "size of train dataset 45000\n",
      "size of valid dataset 5000\n",
      "size of test dataset 10000\n"
     ]
    }
   ],
   "source": [
    "print(\"total batches created in Train loader: {}\".format(len(trainLoader)))\n",
    "print(\"total batches created in Valid loader: {}\".format(len(validLoader)))\n",
    "print(\"total batches created in Test loader: {}\".format(len(testLoader)))\n",
    "print(\"size of train dataset {}\".format(len(trainLoader.dataset)))\n",
    "print(\"size of valid dataset {}\".format(len(validLoader.dataset)))\n",
    "print(\"size of test dataset {}\".format(len(testLoader.dataset)))"
   ]
  },
  {
   "cell_type": "code",
   "execution_count": 24,
   "metadata": {},
   "outputs": [
    {
     "name": "stdout",
     "output_type": "stream",
     "text": [
      "torch.Size([64, 3, 32, 32])\n",
      "torch.Size([64])\n"
     ]
    }
   ],
   "source": [
    "detailer = iter(trainLoader)\n",
    "\n",
    "images, labels = detailer.next()\n",
    "\n",
    "print(images.shape)\n",
    "print(labels.shape)"
   ]
  },
  {
   "cell_type": "markdown",
   "metadata": {},
   "source": [
    "## Task 4 : Create Convolutional Neural Network "
   ]
  },
  {
   "cell_type": "code",
   "execution_count": 25,
   "metadata": {},
   "outputs": [],
   "source": [
    "from torch import nn\n",
    "import torch.nn.functional as F"
   ]
  },
  {
   "cell_type": "markdown",
   "metadata": {},
   "source": [
    "\n",
    "k : kernel_size or filters \n",
    "<br>\n",
    "p : padding \n",
    "<br>\n",
    "s : stride \n",
    "<br>\n",
    "W : Width \n",
    "<br>\n",
    "H : Height \n",
    "\n",
    "\\begin{equation*}\n",
    "For Same padding = \\frac{k - 1}{2} \\\\\n",
    "\\end{equation*}\n",
    "\n",
    "\\begin{equation*}\n",
    "W[next] = \\frac{W[previous] + 2p - k}{s} + 1 \\\\\n",
    "\\end{equation*}\n",
    "\n",
    "\\begin{equation*}\n",
    "H[next] = \\frac{H[previous] + 2p - k}{s} + 1 \\\\\n",
    "\\end{equation*}"
   ]
  },
  {
   "cell_type": "code",
   "execution_count": null,
   "metadata": {},
   "outputs": [],
   "source": [
    "'''\n",
    "3 x 32 x 32 (input)\n",
    "\n",
    "       | k = (3,3), p = 1, s = 1 , out_channels = 16,operation = convolutional  #conv1\n",
    "       V activation = relu \n",
    "       \n",
    "16 x 32 x 32\n",
    "\n",
    "       | k = (2,2), s = 2, operation = Max Pooling #maxpool\n",
    "       V \n",
    "       \n",
    "16 x 15 x 15\n",
    "\n",
    "       | k = (3,3), p = 1, s = 1, out_channels = 32, operation = convolutional #conv2\n",
    "       V activation = relu\n",
    "       \n",
    "32 x 15 x 15 \n",
    "\n",
    "       | k = (2,2), s = 2, operation = Max Pooling #maxpool\n",
    "       V \n",
    "       \n",
    "32 x 8 x 8\n",
    "\n",
    "       | k = (3,3), p = 1 , s = 1 , out_channels = 64, operation = convolutional #conv3\n",
    "       V activation = relu \n",
    "       \n",
    "64 x 8 x 8\n",
    "\n",
    "       | k = (2,2), s = 2 , operation = MaxPooling #maxpool\n",
    "       V\n",
    "\n",
    "64 x 4 x  4\n",
    "    \n",
    "       |  operation = Flatten\n",
    "       V\n",
    "500\n",
    "\n",
    "       |  linear,activation = relu #linear1\n",
    "       V\n",
    "\n",
    "128\n",
    "       |  linear,activation = relu #linear2\n",
    "       V\n",
    "\n",
    "10  linear, activation = log_softmax #linear3\n",
    "'''"
   ]
  },
  {
   "cell_type": "code",
   "execution_count": 36,
   "metadata": {},
   "outputs": [],
   "source": [
    "class MyModel(nn.Module):\n",
    "    \n",
    "    def __init__(self):\n",
    "        super(MyModel, self).__init__()\n",
    "        self.conv_1 = nn.Conv2d(in_channels = 3, out_channels = 16,\n",
    "                               kernel_size = (3,3), padding =1, stride = 1)\n",
    "        \n",
    "        self.conv_2 = nn.Conv2d(in_channels = 16, out_channels = 32,\n",
    "                               kernel_size = (3,3), padding =1, stride = 1)\n",
    "        \n",
    "        self.conv_3 = nn.Conv2d(in_channels = 32, out_channels = 64,\n",
    "                               kernel_size = (3,3), padding =1, stride = 1)\n",
    "        \n",
    "        self.maxpool = nn.MaxPool2d(kernel_size =(2,2), stride = 2)\n",
    "        self.linear_1 = nn.Linear(in_features = 1024, out_features = 500)\n",
    "        self.linear_2 = nn.Linear(in_features = 500, out_features = 128)\n",
    "        self.linear_3 = nn.Linear(in_features = 128, out_features = 10)\n",
    "        \n",
    "        \n",
    "    def forward(self, images):\n",
    "        \n",
    "        #images : 3 x 32 x32\n",
    "        \n",
    "        a1 = self.maxpool(F.relu(self.conv_1(images)))\n",
    "        a2 = self.maxpool(F.relu(self.conv_2(a1)))\n",
    "        a3 = self.maxpool(F.relu(self.conv_3(a2)))\n",
    "        \n",
    "        a3 = a3.view(a3.shape[0], -1) #(bs, 64, 4, 4) -> (bs, 64*4*4) -> (bs, 1024)\n",
    "        \n",
    "        a4 = F.relu(self.linear_1(a3))\n",
    "        \n",
    "        a5 = F.relu(self.linear_2(a4))\n",
    "        \n",
    "        a6 = F.log_softmax(self.linear_3(a5))\n",
    "        \n",
    "        return(a6)"
   ]
  },
  {
   "cell_type": "code",
   "execution_count": 37,
   "metadata": {},
   "outputs": [
    {
     "data": {
      "text/plain": [
       "MyModel(\n",
       "  (conv_1): Conv2d(3, 16, kernel_size=(3, 3), stride=(1, 1), padding=(1, 1))\n",
       "  (conv_2): Conv2d(16, 32, kernel_size=(3, 3), stride=(1, 1), padding=(1, 1))\n",
       "  (conv_3): Conv2d(32, 64, kernel_size=(3, 3), stride=(1, 1), padding=(1, 1))\n",
       "  (maxpool): MaxPool2d(kernel_size=(2, 2), stride=2, padding=0, dilation=1, ceil_mode=False)\n",
       "  (linear_1): Linear(in_features=1024, out_features=500, bias=True)\n",
       "  (linear_2): Linear(in_features=500, out_features=128, bias=True)\n",
       "  (linear_3): Linear(in_features=128, out_features=10, bias=True)\n",
       ")"
      ]
     },
     "execution_count": 37,
     "metadata": {},
     "output_type": "execute_result"
    }
   ],
   "source": [
    "model = MyModel()\n",
    "model"
   ]
  },
  {
   "cell_type": "code",
   "execution_count": 38,
   "metadata": {},
   "outputs": [],
   "source": [
    "from torchsummary import summary"
   ]
  },
  {
   "cell_type": "code",
   "execution_count": 39,
   "metadata": {},
   "outputs": [
    {
     "name": "stdout",
     "output_type": "stream",
     "text": [
      "----------------------------------------------------------------\n",
      "        Layer (type)               Output Shape         Param #\n",
      "================================================================\n",
      "            Conv2d-1           [-1, 16, 32, 32]             448\n",
      "         MaxPool2d-2           [-1, 16, 16, 16]               0\n",
      "            Conv2d-3           [-1, 32, 16, 16]           4,640\n",
      "         MaxPool2d-4             [-1, 32, 8, 8]               0\n",
      "            Conv2d-5             [-1, 64, 8, 8]          18,496\n",
      "         MaxPool2d-6             [-1, 64, 4, 4]               0\n",
      "            Linear-7                  [-1, 500]         512,500\n",
      "            Linear-8                  [-1, 128]          64,128\n",
      "            Linear-9                   [-1, 10]           1,290\n",
      "================================================================\n",
      "Total params: 601,502\n",
      "Trainable params: 601,502\n",
      "Non-trainable params: 0\n",
      "----------------------------------------------------------------\n",
      "Input size (MB): 0.01\n",
      "Forward/backward pass size (MB): 0.28\n",
      "Params size (MB): 2.29\n",
      "Estimated Total Size (MB): 2.58\n",
      "----------------------------------------------------------------\n"
     ]
    },
    {
     "name": "stderr",
     "output_type": "stream",
     "text": [
      "/home/rhyme/.local/lib/python3.6/site-packages/ipykernel_launcher.py:34: UserWarning: Implicit dimension choice for log_softmax has been deprecated. Change the call to include dim=X as an argument.\n"
     ]
    }
   ],
   "source": [
    "summary(model, input_size= (3, 32, 32))"
   ]
  },
  {
   "cell_type": "markdown",
   "metadata": {},
   "source": [
    "## Task 5 : Training loop"
   ]
  },
  {
   "cell_type": "code",
   "execution_count": 40,
   "metadata": {},
   "outputs": [],
   "source": [
    "from torch import optim\n",
    "from utils import multiclass_accuracy\n",
    "from tqdm import tqdm\n",
    "\n",
    "criterion = nn.NLLLoss() \n",
    "optimizer = optim.Adam(model.parameters(), lr = 0.003)\n",
    "epochs = 10"
   ]
  },
  {
   "cell_type": "code",
   "execution_count": 45,
   "metadata": {},
   "outputs": [
    {
     "name": "stderr",
     "output_type": "stream",
     "text": [
      "  0%|          | 0/704 [00:00<?, ?it/s]/home/rhyme/.local/lib/python3.6/site-packages/ipykernel_launcher.py:34: UserWarning: Implicit dimension choice for log_softmax has been deprecated. Change the call to include dim=X as an argument.\n",
      "100%|██████████| 704/704 [00:43<00:00, 16.04it/s]\n",
      "100%|██████████| 79/79 [00:02<00:00, 30.01it/s]\n",
      "  0%|          | 2/704 [00:00<00:45, 15.29it/s]"
     ]
    },
    {
     "name": "stdout",
     "output_type": "stream",
     "text": [
      "Epoch: 0 Train loss:  0.3081 Train Acc : 0.8945\n",
      "Epoch: 0 Valid loss:  0.1527 Valid Acc : 0.6826\n"
     ]
    },
    {
     "name": "stderr",
     "output_type": "stream",
     "text": [
      "100%|██████████| 704/704 [00:43<00:00, 16.25it/s]\n",
      "100%|██████████| 79/79 [00:03<00:00, 24.88it/s]\n",
      "  0%|          | 2/704 [00:00<00:46, 15.01it/s]"
     ]
    },
    {
     "name": "stdout",
     "output_type": "stream",
     "text": [
      "Epoch: 1 Train loss:  0.3024 Train Acc : 0.8991\n",
      "Epoch: 1 Valid loss:  0.2258 Valid Acc : 0.6984\n"
     ]
    },
    {
     "name": "stderr",
     "output_type": "stream",
     "text": [
      "100%|██████████| 704/704 [00:44<00:00, 15.85it/s]\n",
      "100%|██████████| 79/79 [00:02<00:00, 28.43it/s]\n",
      "  0%|          | 2/704 [00:00<00:57, 12.17it/s]"
     ]
    },
    {
     "name": "stdout",
     "output_type": "stream",
     "text": [
      "Epoch: 2 Train loss:  0.2723 Train Acc : 0.9063\n",
      "Epoch: 2 Valid loss:  0.7397 Valid Acc : 0.6723\n"
     ]
    },
    {
     "name": "stderr",
     "output_type": "stream",
     "text": [
      "100%|██████████| 704/704 [00:44<00:00, 15.73it/s]\n",
      "100%|██████████| 79/79 [00:02<00:00, 28.84it/s]\n",
      "  0%|          | 2/704 [00:00<00:48, 14.57it/s]"
     ]
    },
    {
     "name": "stdout",
     "output_type": "stream",
     "text": [
      "Epoch: 3 Train loss:  0.2638 Train Acc : 0.9114\n",
      "Epoch: 3 Valid loss:  0.0208 Valid Acc : 0.6861\n"
     ]
    },
    {
     "name": "stderr",
     "output_type": "stream",
     "text": [
      "100%|██████████| 704/704 [00:45<00:00, 15.32it/s]\n",
      "100%|██████████| 79/79 [00:02<00:00, 28.77it/s]\n",
      "  0%|          | 2/704 [00:00<00:48, 14.35it/s]"
     ]
    },
    {
     "name": "stdout",
     "output_type": "stream",
     "text": [
      "Epoch: 4 Train loss:  0.2466 Train Acc : 0.9172\n",
      "Epoch: 4 Valid loss:  0.0719 Valid Acc : 0.6865\n"
     ]
    },
    {
     "name": "stderr",
     "output_type": "stream",
     "text": [
      "100%|██████████| 704/704 [00:45<00:00, 15.53it/s]\n",
      "100%|██████████| 79/79 [00:02<00:00, 28.54it/s]\n",
      "  0%|          | 2/704 [00:00<00:53, 13.01it/s]"
     ]
    },
    {
     "name": "stdout",
     "output_type": "stream",
     "text": [
      "Epoch: 5 Train loss:  0.2383 Train Acc : 0.9231\n",
      "Epoch: 5 Valid loss:  0.3873 Valid Acc : 0.6792\n"
     ]
    },
    {
     "name": "stderr",
     "output_type": "stream",
     "text": [
      "100%|██████████| 704/704 [00:45<00:00, 15.55it/s]\n",
      "100%|██████████| 79/79 [00:02<00:00, 28.09it/s]\n",
      "  0%|          | 2/704 [00:00<00:46, 15.06it/s]"
     ]
    },
    {
     "name": "stdout",
     "output_type": "stream",
     "text": [
      "Epoch: 6 Train loss:  0.2298 Train Acc : 0.9252\n",
      "Epoch: 6 Valid loss:  1.2160 Valid Acc : 0.6907\n"
     ]
    },
    {
     "name": "stderr",
     "output_type": "stream",
     "text": [
      "100%|██████████| 704/704 [00:44<00:00, 15.67it/s]\n",
      "100%|██████████| 79/79 [00:02<00:00, 29.91it/s]\n",
      "  0%|          | 2/704 [00:00<00:46, 15.20it/s]"
     ]
    },
    {
     "name": "stdout",
     "output_type": "stream",
     "text": [
      "Epoch: 7 Train loss:  0.2323 Train Acc : 0.9246\n",
      "Epoch: 7 Valid loss:  0.0987 Valid Acc : 0.6784\n"
     ]
    },
    {
     "name": "stderr",
     "output_type": "stream",
     "text": [
      "100%|██████████| 704/704 [00:45<00:00, 15.33it/s]\n",
      "100%|██████████| 79/79 [00:02<00:00, 27.93it/s]\n",
      "  0%|          | 2/704 [00:00<00:47, 14.85it/s]"
     ]
    },
    {
     "name": "stdout",
     "output_type": "stream",
     "text": [
      "Epoch: 8 Train loss:  0.2063 Train Acc : 0.9335\n",
      "Epoch: 8 Valid loss:  0.0002 Valid Acc : 0.6794\n"
     ]
    },
    {
     "name": "stderr",
     "output_type": "stream",
     "text": [
      "100%|██████████| 704/704 [00:45<00:00, 15.38it/s]\n",
      "100%|██████████| 79/79 [00:02<00:00, 28.95it/s]"
     ]
    },
    {
     "name": "stdout",
     "output_type": "stream",
     "text": [
      "Epoch: 9 Train loss:  0.2037 Train Acc : 0.9347\n",
      "Epoch: 9 Valid loss:  0.0066 Valid Acc : 0.6800\n"
     ]
    },
    {
     "name": "stderr",
     "output_type": "stream",
     "text": [
      "\n"
     ]
    }
   ],
   "source": [
    "for i in range(epochs):\n",
    "    \n",
    "    train_loss = 0.0\n",
    "    train_acc = 0.0\n",
    "    valid_loss = 0.0\n",
    "    valid_acc = 0\n",
    "    \n",
    "    model.train()\n",
    "    \n",
    "    for images, labels in tqdm(trainLoader):\n",
    "        \n",
    "        logps = model(images) #output ps\n",
    "        \n",
    "        loss = criterion(logps, labels)\n",
    "        \n",
    "        optimizer.zero_grad()\n",
    "        loss.backward()\n",
    "        optimizer.step() #w = w - lr*dw\n",
    "        \n",
    "        train_loss += loss.item()\n",
    "        ps = torch.exp(logps) #log_softmax -> softmax\n",
    "        train_acc += multiclass_accuracy(ps,labels)\n",
    "        \n",
    "    model.eval() \n",
    "    \n",
    "    for images, labels in tqdm(validLoader):\n",
    "        \n",
    "        logps = model(images)\n",
    "        logs = criterion(logps, labels)\n",
    "        \n",
    "        valid_loss += loss.item()\n",
    "        ps = torch.exp(logps)\n",
    "        valid_acc += multiclass_accuracy(ps, labels)\n",
    "        \n",
    "    avg_train_loss = train_loss/len(trainLoader)\n",
    "    avg_valid_loss = valid_loss/len(validLoader)\n",
    "    avg_train_acc = train_acc/len(trainLoader)\n",
    "    avg_valid_acc = valid_acc/len(validLoader)\n",
    "\n",
    "    print(\"Epoch: {} Train loss: {: .4f} Train Acc : {:.4f}\".format(i, avg_train_loss, avg_train_acc))\n",
    "    print(\"Epoch: {} Valid loss: {: .4f} Valid Acc : {:.4f}\".format(i, avg_valid_loss, avg_valid_acc))"
   ]
  },
  {
   "cell_type": "markdown",
   "metadata": {},
   "source": [
    "## Task 6 : Evaluate model "
   ]
  },
  {
   "cell_type": "code",
   "execution_count": 46,
   "metadata": {},
   "outputs": [],
   "source": [
    "from utils import view_classify"
   ]
  },
  {
   "cell_type": "code",
   "execution_count": 48,
   "metadata": {},
   "outputs": [
    {
     "name": "stderr",
     "output_type": "stream",
     "text": [
      "  0%|          | 0/157 [00:00<?, ?it/s]/home/rhyme/.local/lib/python3.6/site-packages/ipykernel_launcher.py:34: UserWarning: Implicit dimension choice for log_softmax has been deprecated. Change the call to include dim=X as an argument.\n",
      "100%|██████████| 157/157 [00:06<00:00, 26.00it/s]"
     ]
    },
    {
     "name": "stdout",
     "output_type": "stream",
     "text": [
      "Test loss: 0.0066 test Acc: 0.6848\n"
     ]
    },
    {
     "name": "stderr",
     "output_type": "stream",
     "text": [
      "\n"
     ]
    }
   ],
   "source": [
    "test_loss = 0\n",
    "test_acc = 0\n",
    "\n",
    "model.eval()\n",
    "\n",
    "for images, labels in tqdm(testLoader):\n",
    "        \n",
    "        logps = model(images)\n",
    "        logs = criterion(logps, labels)\n",
    "        \n",
    "        test_loss += loss.item()\n",
    "        ps = torch.exp(logps)\n",
    "        test_acc += multiclass_accuracy(ps, labels)\n",
    "        \n",
    "\n",
    "avg_test_loss = test_loss/len(testLoader)\n",
    "avg_test_acc = test_acc/len(testLoader)\n",
    "\n",
    "print('Test loss: {:.4f} test Acc: {:.4f}'.format(avg_test_loss, avg_test_acc))\n",
    "        "
   ]
  },
  {
   "cell_type": "code",
   "execution_count": 50,
   "metadata": {},
   "outputs": [
    {
     "name": "stderr",
     "output_type": "stream",
     "text": [
      "/home/rhyme/.local/lib/python3.6/site-packages/ipykernel_launcher.py:34: UserWarning: Implicit dimension choice for log_softmax has been deprecated. Change the call to include dim=X as an argument.\n"
     ]
    },
    {
     "data": {
      "image/png": "[encoded data removed]",
      "text/plain": [
       "<Figure size 432x648 with 2 Axes>"
      ]
     },
     "metadata": {
      "needs_background": "light"
     },
     "output_type": "display_data"
    }
   ],
   "source": [
    "detailer = iter(testLoader)\n",
    "\n",
    "images, labels = detailer.next()\n",
    "\n",
    "index = 35\n",
    "logps = model(images[index].unsqueeze(0)) # (3, 32, 32) -> (1, 3, 32, 32)\n",
    "ps = torch.exp(logps)\n",
    "\n",
    "view_classify(images[index], ps)"
   ]
  },
  {
   "cell_type": "code",
   "execution_count": null,
   "metadata": {},
   "outputs": [],
   "source": []
  }
 ],
 "metadata": {
  "kernelspec": {
   "display_name": "Python 3",
   "language": "python",
   "name": "python3"
  },
  "language_info": {
   "codemirror_mode": {
    "name": "ipython",
    "version": 3
   },
   "file_extension": ".py",
   "mimetype": "text/x-python",
   "name": "python",
   "nbconvert_exporter": "python",
   "pygments_lexer": "ipython3",
   "version": "3.6.9"
  }
 },
 "nbformat": 4,
 "nbformat_minor": 4
}
